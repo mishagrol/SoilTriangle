{
 "cells": [
  {
   "cell_type": "markdown",
   "metadata": {},
   "source": [
    "## Define Soil texture class based on Sand, Silt and Clay"
   ]
  },
  {
   "cell_type": "code",
   "execution_count": null,
   "metadata": {},
   "outputs": [],
   "source": [
    "import pandas as pd"
   ]
  },
  {
   "cell_type": "markdown",
   "metadata": {},
   "source": [
    "USDA Soil Texture Boundaries\n",
    "\n",
    "https://www.nrcs.usda.gov/Internet/FSE_DOCUMENTS/nrcs142p2_031477.pdf\n",
    "\n",
    "https://www.nrcs.usda.gov/Internet/FSE_DOCUMENTS/stelprdb1044818.pdf"
   ]
  },
  {
   "cell_type": "code",
   "execution_count": null,
   "metadata": {},
   "outputs": [],
   "source": [
    "def soil_texture_classifier(soil_properties):\n",
    "    \n",
    "    \"\"\"\n",
    "    Input parameters: typle or list of Sand, Silt, Clay - %\n",
    "    \n",
    "    Output - soil type\n",
    "    \n",
    "    \"\"\"\n",
    "    sand,silt,clay = list(soil_properties)\n",
    "    assert (type(x)==float)or(type(x)==int), 'Houston, we have problems: Sand, Silt, Clay should be float or int (54,4% or 44%)'\n",
    "    assert np.round(silt+clay+sand, decimals=1) == 100, 'Houston, we have problems: Sand, Silt, Clay should be bigger 0 and less 100'\n",
    "    soil_type='random soil'\n",
    "    if sand>=85 and silt+(1.5*clay)<15:\n",
    "        soil_type='Sand'\n",
    "    elif silt+(1.5*clay)>15 and silt+2*clay<30:\n",
    "        soil_type='Loamy Sand'\n",
    "    elif clay<7 and silt<50 and silt+2*clay>=30:\n",
    "        soil_type='Sandy Loam'\n",
    "    elif 7<=clay<27 and 28<=silt<=50 and sand<=52:\n",
    "        soil_type = 'Loam'\n",
    "    elif 50<=silt<=80 and clay<12:\n",
    "        soil_type = 'Silt Loam'\n",
    "    elif 80<=silt and clay<12:\n",
    "        soil_type = 'Silt'\n",
    "    elif 20<=clay<=35 and silt<28 and sand>45:\n",
    "        soil_type = 'Sandy Clay Loam'\n",
    "    elif 27<=clay<40 and 20<sand<=45:\n",
    "        soil_type = 'Clay Loam'\n",
    "    elif 27<=clay<40 and sand<=20:\n",
    "        soil_type = 'Silty Clay Loam'\n",
    "    elif 35<=clay and 45<sand:\n",
    "        soil_type = 'Sandy Clay'\n",
    "    elif 40<=clay and 40<=silt:\n",
    "        soil_type = 'Silty Clay'\n",
    "    elif 40<=clay and sand<=45 and silt<40:\n",
    "        soil_type = 'Clay'\n",
    "    return soil_type  "
   ]
  },
  {
   "cell_type": "code",
   "execution_count": null,
   "metadata": {},
   "outputs": [],
   "source": [
    "df_xls = pd.read_excel('/Users/mikhailgasanov/Documents/GIT/soilgrids/points_India/final_points/Viluppuram/Viluppuram_CDBlocks_points_soil.xls')\n",
    "\n",
    "df_xls['Soil type'] = df_xls[['Sand, (%)', 'Silt, (%)', 'Clay, (%)']].apply(soil_texture_classifier, axis=1)\n",
    "\n",
    "df_xls['Overall score'] = np.random.randint(50, high=90, size=len(df_xls))\n",
    "\n",
    "df_xls['Soil Health Index'] = np.random.randint(3, high=6, size=len(df_xls))"
   ]
  }
 ],
 "metadata": {
  "kernelspec": {
   "display_name": "Python 3",
   "language": "python",
   "name": "python3"
  },
  "language_info": {
   "codemirror_mode": {
    "name": "ipython",
    "version": 3
   },
   "file_extension": ".py",
   "mimetype": "text/x-python",
   "name": "python",
   "nbconvert_exporter": "python",
   "pygments_lexer": "ipython3",
   "version": "3.7.4"
  }
 },
 "nbformat": 4,
 "nbformat_minor": 4
}
